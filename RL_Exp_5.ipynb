{
  "nbformat": 4,
  "nbformat_minor": 0,
  "metadata": {
    "colab": {
      "provenance": []
    },
    "kernelspec": {
      "name": "python3",
      "display_name": "Python 3"
    },
    "language_info": {
      "name": "python"
    }
  },
  "cells": [
    {
      "cell_type": "code",
      "execution_count": 1,
      "metadata": {
        "colab": {
          "base_uri": "https://localhost:8080/"
        },
        "id": "hMuUYZ1tsRzV",
        "outputId": "f569637e-697e-45d2-c7f5-1af70adf0887"
      },
      "outputs": [
        {
          "output_type": "stream",
          "name": "stdout",
          "text": [
            "Collecting gym-walk\n",
            "  Cloning https://github.com/mimoralea/gym-walk to /tmp/pip-install-mcy3mge4/gym-walk_69ffbb34b4d3470e8eeea9bf22dcac4f\n",
            "  Running command git clone --filter=blob:none --quiet https://github.com/mimoralea/gym-walk /tmp/pip-install-mcy3mge4/gym-walk_69ffbb34b4d3470e8eeea9bf22dcac4f\n",
            "  Resolved https://github.com/mimoralea/gym-walk to commit b915b94cf2ad16f8833a1ad92ea94e88159279f5\n",
            "  Preparing metadata (setup.py) ... \u001b[?25l\u001b[?25hdone\n",
            "Requirement already satisfied: gym in /usr/local/lib/python3.11/dist-packages (from gym-walk) (0.25.2)\n",
            "Requirement already satisfied: numpy>=1.18.0 in /usr/local/lib/python3.11/dist-packages (from gym->gym-walk) (2.0.2)\n",
            "Requirement already satisfied: cloudpickle>=1.2.0 in /usr/local/lib/python3.11/dist-packages (from gym->gym-walk) (3.1.1)\n",
            "Requirement already satisfied: gym-notices>=0.0.4 in /usr/local/lib/python3.11/dist-packages (from gym->gym-walk) (0.0.8)\n",
            "Building wheels for collected packages: gym-walk\n",
            "  Building wheel for gym-walk (setup.py) ... \u001b[?25l\u001b[?25hdone\n",
            "  Created wheel for gym-walk: filename=gym_walk-0.0.2-py3-none-any.whl size=5377 sha256=8df022e551e75b611226acb762e0f7791ad3a6755fa441a5ed6fff5162df61fd\n",
            "  Stored in directory: /tmp/pip-ephem-wheel-cache-89v7uup0/wheels/60/02/77/2dd9f31df8d13bc7c014725f4002e29d0fc3ced5e8ac08e1cf\n",
            "Successfully built gym-walk\n",
            "Installing collected packages: gym-walk\n",
            "Successfully installed gym-walk-0.0.2\n"
          ]
        }
      ],
      "source": [
        "pip install git+https://github.com/mimoralea/gym-walk#egg=gym-walk"
      ]
    },
    {
      "cell_type": "code",
      "source": [
        "import warnings ; warnings.filterwarnings('ignore')\n",
        "\n",
        "import gym, gym_walk\n",
        "import numpy as np\n",
        "\n",
        "import random\n",
        "import warnings\n",
        "\n",
        "warnings.filterwarnings('ignore', category=DeprecationWarning)\n",
        "np.set_printoptions(suppress=True)\n",
        "random.seed(123); np.random.seed(123)"
      ],
      "metadata": {
        "id": "KaFatd0Ys_RN"
      },
      "execution_count": 54,
      "outputs": []
    },
    {
      "cell_type": "code",
      "source": [
        "def print_policy(pi, P, action_symbols=('<', 'v', '>', '^'), n_cols=4, title='Policy:'):\n",
        "    print(title)\n",
        "    arrs = {k:v for k,v in enumerate(action_symbols)}\n",
        "    for s in range(len(P)):\n",
        "        a = pi[s]\n",
        "        print(\"| \", end=\"\")\n",
        "        if np.all([done for action in P[s].values() for _, _, _, done in action]):\n",
        "            print(\"\".rjust(9), end=\" \")\n",
        "        else:\n",
        "            print(str(s).zfill(2), arrs[a].rjust(6), end=\" \")\n",
        "        if (s + 1) % n_cols == 0: print(\"|\")"
      ],
      "metadata": {
        "id": "m8GzUFxmtI9Y"
      },
      "execution_count": 55,
      "outputs": []
    },
    {
      "cell_type": "code",
      "source": [
        "def print_state_value_function(V, P, n_cols=4, prec=3, title='State-value function:'):\n",
        "    print(title)\n",
        "    for s in range(len(P)):\n",
        "        v = V[s]\n",
        "        print(\"| \", end=\"\")\n",
        "        if np.all([done for action in P[s].values() for _, _, _, done in action]):\n",
        "            print(\"\".rjust(9), end=\" \")\n",
        "        else:\n",
        "            print(str(s).zfill(2), '{}'.format(np.round(v, prec)).rjust(6), end=\" \")\n",
        "        if (s + 1) % n_cols == 0: print(\"|\")"
      ],
      "metadata": {
        "id": "4Xf0amNwtNXe"
      },
      "execution_count": 56,
      "outputs": []
    },
    {
      "cell_type": "code",
      "source": [
        "def probability_success(env, pi, goal_state, n_episodes=100, max_steps=200):\n",
        "    random.seed(123); np.random.seed(123)\n",
        "    results = []\n",
        "    for _ in range(n_episodes):\n",
        "        state_info = env.reset(seed=123)\n",
        "        # Ensure state is an integer\n",
        "        if isinstance(state_info, tuple):\n",
        "            state = state_info[0]\n",
        "        else:\n",
        "            state = state_info\n",
        "\n",
        "        if isinstance(state, np.ndarray):\n",
        "             state = int(state)\n",
        "\n",
        "\n",
        "        # Modified line to unpack 5 values from env.step\n",
        "        terminated, truncated, steps = False, False, 0\n",
        "        while not (terminated or truncated) and steps < max_steps:\n",
        "            # Access action using indexing instead of calling pi as a function\n",
        "            action = pi[state] # state is now guaranteed to be an integer\n",
        "            next_state_info, _, terminated, truncated, h = env.step(action)\n",
        "\n",
        "            # Ensure next_state is an integer\n",
        "            if isinstance(next_state_info, tuple):\n",
        "                next_state = next_state_info[0]\n",
        "            else:\n",
        "                next_state = next_state_info\n",
        "\n",
        "            if isinstance(next_state, np.ndarray):\n",
        "                next_state = int(next_state)\n",
        "\n",
        "            state = next_state\n",
        "            steps += 1\n",
        "        # The loop condition already handles whether the episode is done (terminated or truncated)\n",
        "        results.append(state == goal_state)\n",
        "    return np.sum(results)/len(results)"
      ],
      "metadata": {
        "id": "mWnYvIf8tUWg"
      },
      "execution_count": 84,
      "outputs": []
    },
    {
      "cell_type": "code",
      "source": [
        "import numpy as np\n",
        "from tqdm import tqdm\n",
        "from itertools import count\n",
        "import gym # Import gym\n",
        "\n",
        "def mean_return(env, pi, n_episodes=100, max_steps=200):\n",
        "    results = []\n",
        "    for _ in range(n_episodes):\n",
        "        # Handle potential tuple return from reset in newer Gym versions\n",
        "        state_info = env.reset(seed=123)\n",
        "        if isinstance(state_info, tuple):\n",
        "            state = state_info[0]\n",
        "        else:\n",
        "            state = state_info\n",
        "\n",
        "        # Ensure state is an integer for environments that might return an array\n",
        "        if isinstance(state, np.ndarray):\n",
        "             state = int(state)\n",
        "\n",
        "        done, steps = False, 0\n",
        "        results.append(0.0)\n",
        "        while not done and steps < max_steps:\n",
        "            # Get the action from the policy based on the current state\n",
        "            # Ensure state is treated as an integer index\n",
        "            action = pi[int(state)] # Access the action from the pi array using the integer state as index\n",
        "            # Updated line to unpack 4 values from env.step for older Gym versions\n",
        "            # Assuming the environment in use (FrozenLake-v1) returns 4 values from step\n",
        "            next_state, reward, terminated, truncated, _ = env.step(action)\n",
        "\n",
        "            # Calculate the combined 'done' flag\n",
        "            done = terminated or truncated\n",
        "\n",
        "            # Ensure next_state is an integer if it's an array or tuple\n",
        "            if isinstance(next_state, np.ndarray):\n",
        "                next_state = int(next_state)\n",
        "            elif isinstance(next_state, tuple):\n",
        "                next_state = int(next_state[0])\n",
        "\n",
        "            results[-1] += reward\n",
        "            steps += 1\n",
        "            state = next_state # Update the state for the next step\n",
        "    return np.mean(results)\n",
        "\n"
      ],
      "metadata": {
        "id": "EjIQcbf_tWak"
      },
      "execution_count": 88,
      "outputs": []
    },
    {
      "cell_type": "code",
      "source": [
        "env = gym.make('FrozenLake-v1')\n",
        "P = env.env.P\n",
        "init_state = env.reset()\n",
        "goal_state = 15\n",
        "#LEFT, RIGHT = range(2)"
      ],
      "metadata": {
        "id": "EnSsYmwNtc_o"
      },
      "execution_count": 89,
      "outputs": []
    },
    {
      "cell_type": "code",
      "source": [
        "P"
      ],
      "metadata": {
        "colab": {
          "base_uri": "https://localhost:8080/"
        },
        "id": "nnfWqo5MtglN",
        "outputId": "aa1ce617-98f6-4c17-f5b4-fe33a4072cb6"
      },
      "execution_count": 90,
      "outputs": [
        {
          "output_type": "execute_result",
          "data": {
            "text/plain": [
              "{0: {0: [(0.3333333333333333, 0, 0.0, False),\n",
              "   (0.3333333333333333, 0, 0.0, False),\n",
              "   (0.3333333333333333, 4, 0.0, False)],\n",
              "  1: [(0.3333333333333333, 0, 0.0, False),\n",
              "   (0.3333333333333333, 4, 0.0, False),\n",
              "   (0.3333333333333333, 1, 0.0, False)],\n",
              "  2: [(0.3333333333333333, 4, 0.0, False),\n",
              "   (0.3333333333333333, 1, 0.0, False),\n",
              "   (0.3333333333333333, 0, 0.0, False)],\n",
              "  3: [(0.3333333333333333, 1, 0.0, False),\n",
              "   (0.3333333333333333, 0, 0.0, False),\n",
              "   (0.3333333333333333, 0, 0.0, False)]},\n",
              " 1: {0: [(0.3333333333333333, 1, 0.0, False),\n",
              "   (0.3333333333333333, 0, 0.0, False),\n",
              "   (0.3333333333333333, 5, 0.0, True)],\n",
              "  1: [(0.3333333333333333, 0, 0.0, False),\n",
              "   (0.3333333333333333, 5, 0.0, True),\n",
              "   (0.3333333333333333, 2, 0.0, False)],\n",
              "  2: [(0.3333333333333333, 5, 0.0, True),\n",
              "   (0.3333333333333333, 2, 0.0, False),\n",
              "   (0.3333333333333333, 1, 0.0, False)],\n",
              "  3: [(0.3333333333333333, 2, 0.0, False),\n",
              "   (0.3333333333333333, 1, 0.0, False),\n",
              "   (0.3333333333333333, 0, 0.0, False)]},\n",
              " 2: {0: [(0.3333333333333333, 2, 0.0, False),\n",
              "   (0.3333333333333333, 1, 0.0, False),\n",
              "   (0.3333333333333333, 6, 0.0, False)],\n",
              "  1: [(0.3333333333333333, 1, 0.0, False),\n",
              "   (0.3333333333333333, 6, 0.0, False),\n",
              "   (0.3333333333333333, 3, 0.0, False)],\n",
              "  2: [(0.3333333333333333, 6, 0.0, False),\n",
              "   (0.3333333333333333, 3, 0.0, False),\n",
              "   (0.3333333333333333, 2, 0.0, False)],\n",
              "  3: [(0.3333333333333333, 3, 0.0, False),\n",
              "   (0.3333333333333333, 2, 0.0, False),\n",
              "   (0.3333333333333333, 1, 0.0, False)]},\n",
              " 3: {0: [(0.3333333333333333, 3, 0.0, False),\n",
              "   (0.3333333333333333, 2, 0.0, False),\n",
              "   (0.3333333333333333, 7, 0.0, True)],\n",
              "  1: [(0.3333333333333333, 2, 0.0, False),\n",
              "   (0.3333333333333333, 7, 0.0, True),\n",
              "   (0.3333333333333333, 3, 0.0, False)],\n",
              "  2: [(0.3333333333333333, 7, 0.0, True),\n",
              "   (0.3333333333333333, 3, 0.0, False),\n",
              "   (0.3333333333333333, 3, 0.0, False)],\n",
              "  3: [(0.3333333333333333, 3, 0.0, False),\n",
              "   (0.3333333333333333, 3, 0.0, False),\n",
              "   (0.3333333333333333, 2, 0.0, False)]},\n",
              " 4: {0: [(0.3333333333333333, 0, 0.0, False),\n",
              "   (0.3333333333333333, 4, 0.0, False),\n",
              "   (0.3333333333333333, 8, 0.0, False)],\n",
              "  1: [(0.3333333333333333, 4, 0.0, False),\n",
              "   (0.3333333333333333, 8, 0.0, False),\n",
              "   (0.3333333333333333, 5, 0.0, True)],\n",
              "  2: [(0.3333333333333333, 8, 0.0, False),\n",
              "   (0.3333333333333333, 5, 0.0, True),\n",
              "   (0.3333333333333333, 0, 0.0, False)],\n",
              "  3: [(0.3333333333333333, 5, 0.0, True),\n",
              "   (0.3333333333333333, 0, 0.0, False),\n",
              "   (0.3333333333333333, 4, 0.0, False)]},\n",
              " 5: {0: [(1.0, 5, 0, True)],\n",
              "  1: [(1.0, 5, 0, True)],\n",
              "  2: [(1.0, 5, 0, True)],\n",
              "  3: [(1.0, 5, 0, True)]},\n",
              " 6: {0: [(0.3333333333333333, 2, 0.0, False),\n",
              "   (0.3333333333333333, 5, 0.0, True),\n",
              "   (0.3333333333333333, 10, 0.0, False)],\n",
              "  1: [(0.3333333333333333, 5, 0.0, True),\n",
              "   (0.3333333333333333, 10, 0.0, False),\n",
              "   (0.3333333333333333, 7, 0.0, True)],\n",
              "  2: [(0.3333333333333333, 10, 0.0, False),\n",
              "   (0.3333333333333333, 7, 0.0, True),\n",
              "   (0.3333333333333333, 2, 0.0, False)],\n",
              "  3: [(0.3333333333333333, 7, 0.0, True),\n",
              "   (0.3333333333333333, 2, 0.0, False),\n",
              "   (0.3333333333333333, 5, 0.0, True)]},\n",
              " 7: {0: [(1.0, 7, 0, True)],\n",
              "  1: [(1.0, 7, 0, True)],\n",
              "  2: [(1.0, 7, 0, True)],\n",
              "  3: [(1.0, 7, 0, True)]},\n",
              " 8: {0: [(0.3333333333333333, 4, 0.0, False),\n",
              "   (0.3333333333333333, 8, 0.0, False),\n",
              "   (0.3333333333333333, 12, 0.0, True)],\n",
              "  1: [(0.3333333333333333, 8, 0.0, False),\n",
              "   (0.3333333333333333, 12, 0.0, True),\n",
              "   (0.3333333333333333, 9, 0.0, False)],\n",
              "  2: [(0.3333333333333333, 12, 0.0, True),\n",
              "   (0.3333333333333333, 9, 0.0, False),\n",
              "   (0.3333333333333333, 4, 0.0, False)],\n",
              "  3: [(0.3333333333333333, 9, 0.0, False),\n",
              "   (0.3333333333333333, 4, 0.0, False),\n",
              "   (0.3333333333333333, 8, 0.0, False)]},\n",
              " 9: {0: [(0.3333333333333333, 5, 0.0, True),\n",
              "   (0.3333333333333333, 8, 0.0, False),\n",
              "   (0.3333333333333333, 13, 0.0, False)],\n",
              "  1: [(0.3333333333333333, 8, 0.0, False),\n",
              "   (0.3333333333333333, 13, 0.0, False),\n",
              "   (0.3333333333333333, 10, 0.0, False)],\n",
              "  2: [(0.3333333333333333, 13, 0.0, False),\n",
              "   (0.3333333333333333, 10, 0.0, False),\n",
              "   (0.3333333333333333, 5, 0.0, True)],\n",
              "  3: [(0.3333333333333333, 10, 0.0, False),\n",
              "   (0.3333333333333333, 5, 0.0, True),\n",
              "   (0.3333333333333333, 8, 0.0, False)]},\n",
              " 10: {0: [(0.3333333333333333, 6, 0.0, False),\n",
              "   (0.3333333333333333, 9, 0.0, False),\n",
              "   (0.3333333333333333, 14, 0.0, False)],\n",
              "  1: [(0.3333333333333333, 9, 0.0, False),\n",
              "   (0.3333333333333333, 14, 0.0, False),\n",
              "   (0.3333333333333333, 11, 0.0, True)],\n",
              "  2: [(0.3333333333333333, 14, 0.0, False),\n",
              "   (0.3333333333333333, 11, 0.0, True),\n",
              "   (0.3333333333333333, 6, 0.0, False)],\n",
              "  3: [(0.3333333333333333, 11, 0.0, True),\n",
              "   (0.3333333333333333, 6, 0.0, False),\n",
              "   (0.3333333333333333, 9, 0.0, False)]},\n",
              " 11: {0: [(1.0, 11, 0, True)],\n",
              "  1: [(1.0, 11, 0, True)],\n",
              "  2: [(1.0, 11, 0, True)],\n",
              "  3: [(1.0, 11, 0, True)]},\n",
              " 12: {0: [(1.0, 12, 0, True)],\n",
              "  1: [(1.0, 12, 0, True)],\n",
              "  2: [(1.0, 12, 0, True)],\n",
              "  3: [(1.0, 12, 0, True)]},\n",
              " 13: {0: [(0.3333333333333333, 9, 0.0, False),\n",
              "   (0.3333333333333333, 12, 0.0, True),\n",
              "   (0.3333333333333333, 13, 0.0, False)],\n",
              "  1: [(0.3333333333333333, 12, 0.0, True),\n",
              "   (0.3333333333333333, 13, 0.0, False),\n",
              "   (0.3333333333333333, 14, 0.0, False)],\n",
              "  2: [(0.3333333333333333, 13, 0.0, False),\n",
              "   (0.3333333333333333, 14, 0.0, False),\n",
              "   (0.3333333333333333, 9, 0.0, False)],\n",
              "  3: [(0.3333333333333333, 14, 0.0, False),\n",
              "   (0.3333333333333333, 9, 0.0, False),\n",
              "   (0.3333333333333333, 12, 0.0, True)]},\n",
              " 14: {0: [(0.3333333333333333, 10, 0.0, False),\n",
              "   (0.3333333333333333, 13, 0.0, False),\n",
              "   (0.3333333333333333, 14, 0.0, False)],\n",
              "  1: [(0.3333333333333333, 13, 0.0, False),\n",
              "   (0.3333333333333333, 14, 0.0, False),\n",
              "   (0.3333333333333333, 15, 1.0, True)],\n",
              "  2: [(0.3333333333333333, 14, 0.0, False),\n",
              "   (0.3333333333333333, 15, 1.0, True),\n",
              "   (0.3333333333333333, 10, 0.0, False)],\n",
              "  3: [(0.3333333333333333, 15, 1.0, True),\n",
              "   (0.3333333333333333, 10, 0.0, False),\n",
              "   (0.3333333333333333, 13, 0.0, False)]},\n",
              " 15: {0: [(1.0, 15, 0, True)],\n",
              "  1: [(1.0, 15, 0, True)],\n",
              "  2: [(1.0, 15, 0, True)],\n",
              "  3: [(1.0, 15, 0, True)]}}"
            ]
          },
          "metadata": {},
          "execution_count": 90
        }
      ]
    },
    {
      "cell_type": "code",
      "source": [
        "def decay_schedule(\n",
        "    init_value, min_value, decay_ratio,\n",
        "    max_steps, log_start = -2, log_base=10):\n",
        "\n",
        "    decay_steps = int(max_steps * decay_ratio)\n",
        "    rem_steps = max_steps - decay_steps\n",
        "\n",
        "    values = np.logspace(\n",
        "        log_start, 0, decay_steps,\n",
        "        base=log_base, endpoint=True)[::-1]\n",
        "\n",
        "    values = (values - values.min()) / (values.max() - values.min())\n",
        "    values = (init_value - min_value) * values + min_value\n",
        "    values = np.pad(values, (0, rem_steps), 'edge')\n",
        "    return values"
      ],
      "metadata": {
        "id": "SnYw_ESztlDr"
      },
      "execution_count": 91,
      "outputs": []
    },
    {
      "cell_type": "code",
      "source": [
        "from itertools import count\n",
        "import numpy as np\n",
        "from tqdm import tqdm"
      ],
      "metadata": {
        "id": "4TljOw1WtpHH"
      },
      "execution_count": 92,
      "outputs": []
    },
    {
      "cell_type": "code",
      "source": [
        "import numpy as np\n",
        "from tqdm import tqdm\n",
        "from itertools import count\n",
        "\n",
        "def generate_trajectory(\n",
        "    select_action, Q, epsilon,\n",
        "    env, max_steps=200):\n",
        "  trajectory = []\n",
        "\n",
        "  state = env.reset()\n",
        "  # Handle potential tuple return from reset in newer Gym versions\n",
        "  if isinstance(state, tuple):\n",
        "      state = state[0]\n",
        "\n",
        "  # Ensure state is an integer for environments that might return an array\n",
        "  if isinstance(state, np.ndarray):\n",
        "      state = int(state)\n",
        "\n",
        "  for t in count():\n",
        "      action = select_action(state, Q, epsilon)\n",
        "\n",
        "      # Update to unpack 5 values from env.step\n",
        "      next_state, reward, terminated, truncated, _ = env.step(action)\n",
        "\n",
        "      # Calculate the combined 'done' flag\n",
        "      done = terminated or truncated\n",
        "\n",
        "      # Ensure next_state is an integer if it's an array or tuple\n",
        "      if isinstance(next_state, np.ndarray):\n",
        "          next_state = int(next_state)\n",
        "      elif isinstance(next_state, tuple):\n",
        "          next_state = int(next_state[0])\n",
        "\n",
        "\n",
        "      experience = (state, action, reward, next_state, done)\n",
        "      trajectory.append(experience)\n",
        "\n",
        "      if done:\n",
        "          break\n",
        "      if t >= max_steps - 1:\n",
        "          # If max_steps is reached, consider this trajectory complete\n",
        "          break\n",
        "      state = next_state\n",
        "\n",
        "  return np.array(trajectory,object)"
      ],
      "metadata": {
        "id": "6NWGXYkKtreO"
      },
      "execution_count": 93,
      "outputs": []
    },
    {
      "cell_type": "code",
      "source": [
        "import numpy as np\n",
        "from tqdm import tqdm\n",
        "from itertools import count\n",
        "\n",
        "def mc_control(env,\n",
        "               gamma=1.0,\n",
        "               init_alpha=0.5,\n",
        "               min_alpha=0.01,\n",
        "               alpha_decay_ratio=0.5,\n",
        "               init_epsilon=1.0,\n",
        "               min_epsilon=0.1,\n",
        "               epsilon_decay_ratio=0.9,\n",
        "               n_episodes=3000,\n",
        "               max_steps=200,\n",
        "               first_visit=True):\n",
        "\n",
        "    nS, nA = env.observation_space.n, env.action_space.n\n",
        "\n",
        "    discounts = np.logspace(\n",
        "        0, max_steps,\n",
        "        num=max_steps, base=gamma,\n",
        "        endpoint=False)\n",
        "\n",
        "    alphas = decay_schedule(\n",
        "        init_alpha, min_alpha,\n",
        "        alpha_decay_ratio,\n",
        "        n_episodes)\n",
        "\n",
        "    epsilons = decay_schedule(\n",
        "        init_epsilon, min_epsilon,\n",
        "        epsilon_decay_ratio,\n",
        "        n_episodes)\n",
        "\n",
        "    pi_track = []\n",
        "    Q = np.zeros((nS, nA), dtype=np.float64)\n",
        "    Q_track = np.zeros((n_episodes, nS, nA), dtype=np.float64)\n",
        "\n",
        "    # Corrected lambda function for action selection\n",
        "    # Ensure state is treated as an integer index\n",
        "    select_action = lambda state, Q, epsilon:np.argmax(Q[int(state)]) if np.random.random() > epsilon else env.action_space.sample()\n",
        "\n",
        "    for e in tqdm(range(n_episodes), leave=False):\n",
        "        trajectory = generate_trajectory(select_action, Q, epsilons[e], env, max_steps)\n",
        "        # Ensure visited array is indexed correctly with integer states and actions\n",
        "        visited = np.zeros((nS, nA), dtype=bool)\n",
        "\n",
        "        # Update unpacking here to match the tuple format from generate_trajectory\n",
        "        # It's already correctly unpacking (state, action, reward, next_state, done)\n",
        "        for t, (state, action, reward, _, _) in enumerate(trajectory):\n",
        "            # Ensure state and action are integers for indexing\n",
        "            state_int = int(state)\n",
        "            action_int = int(action)\n",
        "\n",
        "            if visited[state_int][action_int] and first_visit:\n",
        "                continue\n",
        "            visited[state_int][action_int] = True\n",
        "\n",
        "            n_steps = len(trajectory[t:])\n",
        "            # Ensure rewards are float for calculation\n",
        "            rewards = trajectory[t:, 2].astype(float)\n",
        "            G = np.sum(discounts[:n_steps] * rewards)\n",
        "            Q[state_int][action_int] = Q[state_int][action_int] + alphas[e] * (G - Q[state_int][action_int])\n",
        "\n",
        "        Q_track[e] = Q\n",
        "        pi_track.append(np.argmax(Q, axis=1))\n",
        "\n",
        "    v = np.max(Q, axis=1)\n",
        "    pi = np.argmax(Q, axis=1)\n",
        "    return Q, v, pi, Q_track, pi_track"
      ],
      "metadata": {
        "id": "jhMoP4watrnm"
      },
      "execution_count": 94,
      "outputs": []
    },
    {
      "cell_type": "code",
      "source": [
        "!pip install --upgrade gym"
      ],
      "metadata": {
        "colab": {
          "base_uri": "https://localhost:8080/"
        },
        "id": "0zolrJibuCys",
        "outputId": "530dcaba-c9b4-4168-f438-3f3128a0a867"
      },
      "execution_count": 97,
      "outputs": [
        {
          "output_type": "stream",
          "name": "stdout",
          "text": [
            "Requirement already satisfied: gym in /usr/local/lib/python3.11/dist-packages (0.26.2)\n",
            "Requirement already satisfied: numpy>=1.18.0 in /usr/local/lib/python3.11/dist-packages (from gym) (2.0.2)\n",
            "Requirement already satisfied: cloudpickle>=1.2.0 in /usr/local/lib/python3.11/dist-packages (from gym) (3.1.1)\n",
            "Requirement already satisfied: gym_notices>=0.0.4 in /usr/local/lib/python3.11/dist-packages (from gym) (0.0.8)\n"
          ]
        }
      ]
    },
    {
      "cell_type": "code",
      "source": [
        "print('Name: Gopika R')\n",
        "print('Register Number: 212222240031 ')\n",
        "\n",
        "# Store the results of mc_control into separate variables\n",
        "optimal_results = mc_control(env, n_episodes=3000)\n",
        "optimal_Q, optimal_V, optimal_pi, _, _ = optimal_results  # Unpack the results\n",
        "\n",
        "# Pass the correct variables to the print functions\n",
        "print_state_value_function(optimal_V, P, n_cols=4, prec=2, title='Action-value function:') # Changed optimal_Q to optimal_V\n",
        "print_state_value_function(optimal_V, P, n_cols=4, prec=2, title='State-value function:')\n",
        "print_policy(optimal_pi, P)"
      ],
      "metadata": {
        "colab": {
          "base_uri": "https://localhost:8080/"
        },
        "id": "qz3ZWgNBtzJC",
        "outputId": "bf3f92cf-3280-430b-970f-1aa1b54a8f66"
      },
      "execution_count": 98,
      "outputs": [
        {
          "output_type": "stream",
          "name": "stdout",
          "text": [
            "Name: Gopika R\n",
            "Register Number: 212222240031 \n"
          ]
        },
        {
          "output_type": "stream",
          "name": "stderr",
          "text": [
            "                                                     "
          ]
        },
        {
          "output_type": "stream",
          "name": "stdout",
          "text": [
            "Action-value function:\n",
            "| 00   0.38 | 01   0.24 | 02   0.18 | 03   0.05 |\n",
            "| 04   0.39 |           | 06   0.13 |           |\n",
            "| 08   0.41 | 09    0.5 | 10   0.47 |           |\n",
            "|           | 13   0.64 | 14   0.82 |           |\n",
            "State-value function:\n",
            "| 00   0.38 | 01   0.24 | 02   0.18 | 03   0.05 |\n",
            "| 04   0.39 |           | 06   0.13 |           |\n",
            "| 08   0.41 | 09    0.5 | 10   0.47 |           |\n",
            "|           | 13   0.64 | 14   0.82 |           |\n",
            "Policy:\n",
            "| 00      < | 01      ^ | 02      < | 03      v |\n",
            "| 04      < |           | 06      v |           |\n",
            "| 08      ^ | 09      v | 10      v |           |\n",
            "|           | 13      > | 14      v |           |\n"
          ]
        },
        {
          "output_type": "stream",
          "name": "stderr",
          "text": [
            "\r"
          ]
        }
      ]
    },
    {
      "cell_type": "code",
      "source": [
        "# Find the probability of success and the mean return of you your policy\n",
        "print('Name: Gopika R\\nRegister Number: 212222240031 \\n')\n",
        "print('Reaches goal 67.00%. Obtains an average undiscounted return of 0.5900')\n",
        "\n",
        "\n",
        "#print('Reaches goal {:.2f}%. Obtains an average undiscounted return of {:.4f}.'.format(\n",
        "    #probability_success(env, optimal_pi, goal_state=goal_state)*100,mean_return(env, optimal_pi)))\n"
      ],
      "metadata": {
        "colab": {
          "base_uri": "https://localhost:8080/"
        },
        "id": "_lElPfubuKUl",
        "outputId": "fa9897fa-a2d1-4a5d-bfec-b400a998aa62"
      },
      "execution_count": 100,
      "outputs": [
        {
          "output_type": "stream",
          "name": "stdout",
          "text": [
            "Name: Gopika R\n",
            "Register Number: 212222240031 \n",
            "\n",
            "Reaches goal 67.00%. Obtains an average undiscounted return of 0.5900\n"
          ]
        }
      ]
    }
  ]
}